{
 "cells": [
  {
   "cell_type": "markdown",
   "metadata": {},
   "source": [
    "# Ejemplo de Scikit-Learn - Algoritmo KNN\n",
    "\n",
    "El proyecto [*Scikit-Learn*](https://scikit-learn.org) es una biblioteca de código abierto, especializada en aprendizaje supervisado y no supervisado, La gran variedad de algoritmos y utilidades de *Scikit-Learn* la convierten en la herramienta básica para empezar a programar y estructurar sistemas de análisis datos y modelado estadístico. Los algoritmos de *Scikit-Learn* se combinan y depuran con otras estructuras de datos y aplicaciones externas como *Pandas*.\n",
    "\n",
    "*Scikit-Learn* cuenta con las siguientes funcionalidades:\n",
    "\n",
    "* Clasificación.\n",
    "* Regresión.\n",
    "* Clusterización.\n",
    "* Reducción de dimensionalidad.\n",
    "* Selección de modelos.\n",
    "* Preprocesamiento."
   ]
  },
  {
   "cell_type": "markdown",
   "metadata": {},
   "source": [
    "## Ejemplo ilustrativo.\n",
    "\n",
    "El dataframe **`compañia`** contiene datos ficticios de sucursales de compañías en diversas regiones geográficas."
   ]
  },
  {
   "cell_type": "code",
   "execution_count": 1,
   "metadata": {},
   "outputs": [],
   "source": [
    "import pandas as pd\n",
    "import re\n",
    "from sklearn.feature_extraction.text import TfidfVectorizer\n",
    "from sklearn.neighbors import NearestNeighbors"
   ]
  },
  {
   "cell_type": "code",
   "execution_count": 2,
   "metadata": {},
   "outputs": [],
   "source": [
    "compañia = pd.DataFrame({'codigo':(100, \n",
    "                                   110, \n",
    "                                   120, \n",
    "                                   130, \n",
    "                                   140, \n",
    "                                   150,\n",
    "                                   160,\n",
    "                                   170),\n",
    "                         'Compañía':('Nonename-Org',\n",
    "                                    'Corporativo Inc',\n",
    "                                    'Organización (Ex).',\n",
    "                                    'Sin Nombre S.A. de C.V.',\n",
    "                                    'Sombrilla Corp.',\n",
    "                                    'El Baratillo',\n",
    "                                    'El Changarro Perron',\n",
    "                                    'ODISA'),\n",
    "                         'Norte':(12,\n",
    "                                    101,\n",
    "                                    None,\n",
    "                                    1,\n",
    "                                    8,\n",
    "                                    2,\n",
    "                                    14,\n",
    "                                    6),\n",
    "                          'Occidente':(24,\n",
    "                                    33,\n",
    "                                    15,\n",
    "                                    21,\n",
    "                                    7,\n",
    "                                    11,\n",
    "                                    8,\n",
    "                                    3),\n",
    "                         'Centro':(15,\n",
    "                                    96,\n",
    "                                    19,\n",
    "                                    103,\n",
    "                                    40,\n",
    "                                    121,\n",
    "                                    0,\n",
    "                                    5),\n",
    "                         'Sur':(18,\n",
    "                                  23,\n",
    "                                  14,\n",
    "                                  126,\n",
    "                                  79,\n",
    "                                  42,\n",
    "                                  0,\n",
    "                                  None)}).set_index('codigo')"
   ]
  },
  {
   "cell_type": "code",
   "execution_count": 3,
   "metadata": {},
   "outputs": [
    {
     "data": {
      "text/html": [
       "<div>\n",
       "<style scoped>\n",
       "    .dataframe tbody tr th:only-of-type {\n",
       "        vertical-align: middle;\n",
       "    }\n",
       "\n",
       "    .dataframe tbody tr th {\n",
       "        vertical-align: top;\n",
       "    }\n",
       "\n",
       "    .dataframe thead th {\n",
       "        text-align: right;\n",
       "    }\n",
       "</style>\n",
       "<table border=\"1\" class=\"dataframe\">\n",
       "  <thead>\n",
       "    <tr style=\"text-align: right;\">\n",
       "      <th></th>\n",
       "      <th>Compañía</th>\n",
       "      <th>Norte</th>\n",
       "      <th>Occidente</th>\n",
       "      <th>Centro</th>\n",
       "      <th>Sur</th>\n",
       "    </tr>\n",
       "    <tr>\n",
       "      <th>codigo</th>\n",
       "      <th></th>\n",
       "      <th></th>\n",
       "      <th></th>\n",
       "      <th></th>\n",
       "      <th></th>\n",
       "    </tr>\n",
       "  </thead>\n",
       "  <tbody>\n",
       "    <tr>\n",
       "      <th>100</th>\n",
       "      <td>Nonename-Org</td>\n",
       "      <td>12.0</td>\n",
       "      <td>24</td>\n",
       "      <td>15</td>\n",
       "      <td>18.0</td>\n",
       "    </tr>\n",
       "    <tr>\n",
       "      <th>110</th>\n",
       "      <td>Corporativo Inc</td>\n",
       "      <td>101.0</td>\n",
       "      <td>33</td>\n",
       "      <td>96</td>\n",
       "      <td>23.0</td>\n",
       "    </tr>\n",
       "    <tr>\n",
       "      <th>120</th>\n",
       "      <td>Organización (Ex).</td>\n",
       "      <td>NaN</td>\n",
       "      <td>15</td>\n",
       "      <td>19</td>\n",
       "      <td>14.0</td>\n",
       "    </tr>\n",
       "    <tr>\n",
       "      <th>130</th>\n",
       "      <td>Sin Nombre S.A. de C.V.</td>\n",
       "      <td>1.0</td>\n",
       "      <td>21</td>\n",
       "      <td>103</td>\n",
       "      <td>126.0</td>\n",
       "    </tr>\n",
       "    <tr>\n",
       "      <th>140</th>\n",
       "      <td>Sombrilla Corp.</td>\n",
       "      <td>8.0</td>\n",
       "      <td>7</td>\n",
       "      <td>40</td>\n",
       "      <td>79.0</td>\n",
       "    </tr>\n",
       "    <tr>\n",
       "      <th>150</th>\n",
       "      <td>El Baratillo</td>\n",
       "      <td>2.0</td>\n",
       "      <td>11</td>\n",
       "      <td>121</td>\n",
       "      <td>42.0</td>\n",
       "    </tr>\n",
       "    <tr>\n",
       "      <th>160</th>\n",
       "      <td>El Changarro Perron</td>\n",
       "      <td>14.0</td>\n",
       "      <td>8</td>\n",
       "      <td>0</td>\n",
       "      <td>0.0</td>\n",
       "    </tr>\n",
       "    <tr>\n",
       "      <th>170</th>\n",
       "      <td>ODISA</td>\n",
       "      <td>6.0</td>\n",
       "      <td>3</td>\n",
       "      <td>5</td>\n",
       "      <td>NaN</td>\n",
       "    </tr>\n",
       "  </tbody>\n",
       "</table>\n",
       "</div>"
      ],
      "text/plain": [
       "                       Compañía  Norte  Occidente  Centro    Sur\n",
       "codigo                                                          \n",
       "100                Nonename-Org   12.0         24      15   18.0\n",
       "110             Corporativo Inc  101.0         33      96   23.0\n",
       "120          Organización (Ex).    NaN         15      19   14.0\n",
       "130     Sin Nombre S.A. de C.V.    1.0         21     103  126.0\n",
       "140             Sombrilla Corp.    8.0          7      40   79.0\n",
       "150                El Baratillo    2.0         11     121   42.0\n",
       "160         El Changarro Perron   14.0          8       0    0.0\n",
       "170                       ODISA    6.0          3       5    NaN"
      ]
     },
     "execution_count": 3,
     "metadata": {},
     "output_type": "execute_result"
    }
   ],
   "source": [
    "compañia"
   ]
  },
  {
   "cell_type": "markdown",
   "metadata": {},
   "source": [
    "### Lista de DNS\n",
    "Esta sería nuestra lista de DNS. Es decir, las empresas que han solicitado no recibir encuestas."
   ]
  },
  {
   "cell_type": "code",
   "execution_count": 4,
   "metadata": {},
   "outputs": [],
   "source": [
    "lista_dns = [{\"Id\":1, \"Nombre\":'NONENAME ORG'},{\"Id\":2, \"Nombre\":'Sombrilla Co'}, \n",
    "            {\"Id\":3, \"Nombre\":'Organización X'}]"
   ]
  },
  {
   "cell_type": "code",
   "execution_count": 5,
   "metadata": {},
   "outputs": [
    {
     "data": {
      "text/plain": [
       "[{'Id': 1, 'Nombre': 'NONENAME ORG'},\n",
       " {'Id': 2, 'Nombre': 'Sombrilla Co'},\n",
       " {'Id': 3, 'Nombre': 'Organización X'}]"
      ]
     },
     "execution_count": 5,
     "metadata": {},
     "output_type": "execute_result"
    }
   ],
   "source": [
    "lista_dns"
   ]
  },
  {
   "cell_type": "code",
   "execution_count": 6,
   "metadata": {},
   "outputs": [],
   "source": [
    "nom_comp = tuple(x['Nombre'] for x in lista_dns if x['Nombre'])"
   ]
  },
  {
   "cell_type": "code",
   "execution_count": 7,
   "metadata": {},
   "outputs": [
    {
     "data": {
      "text/plain": [
       "('NONENAME ORG', 'Sombrilla Co', 'Organización X')"
      ]
     },
     "execution_count": 7,
     "metadata": {},
     "output_type": "execute_result"
    }
   ],
   "source": [
    "nom_comp"
   ]
  },
  {
   "cell_type": "markdown",
   "metadata": {},
   "source": [
    "## Función que limpia y divide el nombre de la compañía\n",
    "Esta función remueve o reemplaza ciertos caractéres y segmenta el nombre de la compañía en bloques de 3 en 3 caractéres."
   ]
  },
  {
   "cell_type": "code",
   "execution_count": 8,
   "metadata": {},
   "outputs": [],
   "source": [
    "def limpia_nom_comp(nombre, n=3):\n",
    "    nombre = nombre.lower()\n",
    "    remueve = [\")\",\"(\",\".\",\"|\",\"[\",\"]\",\"{\",\"}\",\"'\"]\n",
    "    rx = '[' + re.escape(''.join(remueve)) + ']'\n",
    "    nombre = re.sub(rx, '', nombre)\n",
    "    nombre = nombre.replace('&', 'y')\n",
    "    nombre = nombre.replace(',', ' ')\n",
    "    nombre = nombre.replace('_', ' ')\n",
    "    nombre = nombre.title()\n",
    "    nombre = re.sub(' +', ' ', nombre).strip()\n",
    "    nombre = re.sub(r'[,-./]|\\sBD',r'', nombre)\n",
    "    limpia_nom_comp = zip(*[nombre[i:] for i in range(n)])\n",
    "    return [''.join(ngram) for ngram in limpia_nom_comp]"
   ]
  },
  {
   "cell_type": "code",
   "execution_count": 9,
   "metadata": {},
   "outputs": [],
   "source": [
    "a_encuestar = compañia.to_dict('r')"
   ]
  },
  {
   "cell_type": "code",
   "execution_count": 10,
   "metadata": {},
   "outputs": [
    {
     "data": {
      "text/plain": [
       "[{'Compañía': 'Nonename-Org',\n",
       "  'Norte': 12.0,\n",
       "  'Occidente': 24,\n",
       "  'Centro': 15,\n",
       "  'Sur': 18.0},\n",
       " {'Compañía': 'Corporativo Inc',\n",
       "  'Norte': 101.0,\n",
       "  'Occidente': 33,\n",
       "  'Centro': 96,\n",
       "  'Sur': 23.0},\n",
       " {'Compañía': 'Organización (Ex).',\n",
       "  'Norte': nan,\n",
       "  'Occidente': 15,\n",
       "  'Centro': 19,\n",
       "  'Sur': 14.0},\n",
       " {'Compañía': 'Sin Nombre S.A. de C.V.',\n",
       "  'Norte': 1.0,\n",
       "  'Occidente': 21,\n",
       "  'Centro': 103,\n",
       "  'Sur': 126.0},\n",
       " {'Compañía': 'Sombrilla Corp.',\n",
       "  'Norte': 8.0,\n",
       "  'Occidente': 7,\n",
       "  'Centro': 40,\n",
       "  'Sur': 79.0},\n",
       " {'Compañía': 'El Baratillo',\n",
       "  'Norte': 2.0,\n",
       "  'Occidente': 11,\n",
       "  'Centro': 121,\n",
       "  'Sur': 42.0},\n",
       " {'Compañía': 'El Changarro Perron',\n",
       "  'Norte': 14.0,\n",
       "  'Occidente': 8,\n",
       "  'Centro': 0,\n",
       "  'Sur': 0.0},\n",
       " {'Compañía': 'ODISA', 'Norte': 6.0, 'Occidente': 3, 'Centro': 5, 'Sur': nan}]"
      ]
     },
     "execution_count": 10,
     "metadata": {},
     "output_type": "execute_result"
    }
   ],
   "source": [
    "a_encuestar"
   ]
  },
  {
   "cell_type": "markdown",
   "metadata": {},
   "source": [
    "### TF-IDF\n",
    "\n",
    "TF-IDF es un método para generar características de texto multiplicando la frecuencia de un término (generalmente una palabra) en un documento (la Frecuencia de Término, o TF) por la importancia (la Frecuencia de Documento Inversa o IDF) del mismo término en un corpus completo. Este último término pondera las palabras menos importantes (por ejemplo, el, él, etc.) y las palabras que no ocurren con frecuencia hacia arriba. El IDF se calcula así:\n",
    "\n",
    "```IDF(t) = log_e(Número total de documentos / Número de documentos con el término t en él).```\n"
   ]
  },
  {
   "cell_type": "code",
   "execution_count": 113,
   "metadata": {},
   "outputs": [],
   "source": [
    "if nom_comp:\n",
    "    vectoriza = TfidfVectorizer(min_df=1, analyzer=limpia_nom_comp)\n",
    "    tf_idf_matrix = vectoriza.fit_transform(nom_comp)\n",
    "    check_long_comp = 10 if len(nom_comp) >= 10 else len(nom_comp)\n",
    "    nbrs = NearestNeighbors(n_neighbors=check_long_comp, radius=0.8, n_jobs=-1).fit(tf_idf_matrix)\n",
    "    (distances,indices) = nbrs.kneighbors(vectoriza.transform([x['Compañía'] for x in a_encuestar]))\n",
    "else:\n",
    "    distances = indices = [None] * len(a_encuestar)"
   ]
  },
  {
   "cell_type": "code",
   "execution_count": 114,
   "metadata": {},
   "outputs": [
    {
     "data": {
      "text/plain": [
       "(array([[1.49011612e-08, 1.34500549e+00, 1.41421356e+00],\n",
       "        [1.19274881e+00, 1.41421356e+00, 1.41421356e+00],\n",
       "        [3.97838458e-01, 1.33889092e+00, 1.41421356e+00],\n",
       "        [1.15470054e+00, 1.28619588e+00, 1.41421356e+00],\n",
       "        [2.91797506e-01, 1.41421356e+00, 1.41421356e+00],\n",
       "        [1.19274881e+00, 1.41421356e+00, 1.41421356e+00],\n",
       "        [1.00000000e+00, 1.00000000e+00, 1.00000000e+00],\n",
       "        [1.00000000e+00, 1.00000000e+00, 1.00000000e+00]]),\n",
       " array([[0, 2, 1],\n",
       "        [1, 2, 0],\n",
       "        [2, 0, 1],\n",
       "        [1, 0, 2],\n",
       "        [1, 2, 0],\n",
       "        [1, 2, 0],\n",
       "        [2, 1, 0],\n",
       "        [2, 1, 0]]))"
      ]
     },
     "execution_count": 114,
     "metadata": {},
     "output_type": "execute_result"
    }
   ],
   "source": [
    "(distances,indices)"
   ]
  },
  {
   "cell_type": "code",
   "execution_count": 115,
   "metadata": {},
   "outputs": [
    {
     "name": "stdout",
     "output_type": "stream",
     "text": [
      "  (0, 31)\t0.2993851103375717\n",
      "  (0, 7)\t0.2276900931986287\n",
      "  (0, 2)\t0.2276900931986287\n",
      "  (0, 15)\t0.2993851103375717\n",
      "  (0, 24)\t0.2993851103375717\n",
      "  (0, 11)\t0.2993851103375717\n",
      "  (0, 26)\t0.2993851103375717\n",
      "  (0, 16)\t0.2993851103375717\n",
      "  (0, 27)\t0.2993851103375717\n",
      "  (0, 30)\t0.2993851103375717\n",
      "  (0, 6)\t0.2993851103375717\n",
      "  (0, 1)\t0.2993851103375717\n",
      "  (1, 5)\t0.2886751345948129\n",
      "  (1, 0)\t0.2886751345948129\n",
      "  (1, 9)\t0.2886751345948129\n",
      "  (1, 21)\t0.2886751345948129\n",
      "  (1, 22)\t0.2886751345948129\n",
      "  (1, 18)\t0.2886751345948129\n",
      "  (1, 33)\t0.2886751345948129\n",
      "  (1, 13)\t0.2886751345948129\n",
      "  (1, 23)\t0.2886751345948129\n",
      "  (1, 29)\t0.2886751345948129\n",
      "  (1, 8)\t0.2886751345948129\n",
      "  (1, 3)\t0.2886751345948129\n",
      "  (2, 4)\t0.2756924555034742\n",
      "  (2, 25)\t0.2756924555034742\n",
      "  (2, 35)\t0.2756924555034742\n",
      "  (2, 20)\t0.2756924555034742\n",
      "  (2, 14)\t0.2756924555034742\n",
      "  (2, 10)\t0.2756924555034742\n",
      "  (2, 34)\t0.2756924555034742\n",
      "  (2, 19)\t0.2756924555034742\n",
      "  (2, 28)\t0.2756924555034742\n",
      "  (2, 12)\t0.2756924555034742\n",
      "  (2, 17)\t0.2756924555034742\n",
      "  (2, 32)\t0.2756924555034742\n",
      "  (2, 7)\t0.20967121850838127\n",
      "  (2, 2)\t0.20967121850838127\n"
     ]
    }
   ],
   "source": [
    "print(tf_idf_matrix)"
   ]
  },
  {
   "cell_type": "code",
   "execution_count": 116,
   "metadata": {},
   "outputs": [
    {
     "name": "stdout",
     "output_type": "stream",
     "text": [
      "0 {'Compañía': 'Nonename-Org', 'Norte': 12.0, 'Occidente': 24, 'Centro': 15, 'Sur': 18.0}\n",
      "[0 2 1] [1.49011612e-08 1.34500549e+00 1.41421356e+00]\n",
      "1 {'Compañía': 'Corporativo Inc', 'Norte': 101.0, 'Occidente': 33, 'Centro': 96, 'Sur': 23.0}\n",
      "[1 2 0] [1.19274881 1.41421356 1.41421356]\n",
      "2 {'Compañía': 'Organización (Ex).', 'Norte': nan, 'Occidente': 15, 'Centro': 19, 'Sur': 14.0}\n",
      "[2 0 1] [0.39783846 1.33889092 1.41421356]\n",
      "3 {'Compañía': 'Sin Nombre S.A. de C.V.', 'Norte': 1.0, 'Occidente': 21, 'Centro': 103, 'Sur': 126.0}\n",
      "[1 0 2] [1.15470054 1.28619588 1.41421356]\n",
      "4 {'Compañía': 'Sombrilla Corp.', 'Norte': 8.0, 'Occidente': 7, 'Centro': 40, 'Sur': 79.0}\n",
      "[1 2 0] [0.29179751 1.41421356 1.41421356]\n",
      "5 {'Compañía': 'El Baratillo', 'Norte': 2.0, 'Occidente': 11, 'Centro': 121, 'Sur': 42.0}\n",
      "[1 2 0] [1.19274881 1.41421356 1.41421356]\n",
      "6 {'Compañía': 'El Changarro Perron', 'Norte': 14.0, 'Occidente': 8, 'Centro': 0, 'Sur': 0.0}\n",
      "[2 1 0] [1. 1. 1.]\n",
      "7 {'Compañía': 'ODISA', 'Norte': 6.0, 'Occidente': 3, 'Centro': 5, 'Sur': nan}\n",
      "[2 1 0] [1. 1. 1.]\n"
     ]
    }
   ],
   "source": [
    "for id_, ren_encuesta in enumerate(a_encuestar):\n",
    "    print(id_, ren_encuesta)\n",
    "    print(indices[id_],distances[id_])\n",
    "    similares = [nom_comp[x[0]] for x in filter(lambda x: round(x[1], 2) >= 0.8, zip(indices[id_], distances[id_]))]\\\n",
    "    if nom_comp else []"
   ]
  },
  {
   "cell_type": "code",
   "execution_count": 117,
   "metadata": {},
   "outputs": [
    {
     "name": "stdout",
     "output_type": "stream",
     "text": [
      "Compañías que coinciden:  ['Organización X', 'Sombrilla Co', 'NONENAME ORG']\n"
     ]
    }
   ],
   "source": [
    "print('Compañías que coinciden: ', similares)"
   ]
  },
  {
   "attachments": {
    "image.png": {
     "image/png": "[encoded data removed]"
    }
   },
   "cell_type": "markdown",
   "metadata": {},
   "source": [
    "![image.png](attachment:image.png)\n",
    "<center>Esta obra está bajo una Licencia GNU GENERAL PUBLIC LICENSE Version 3.</center>\n",
    "\n",
    "<center>© Daniel Herrera Salgado. 2020.</center>"
   ]
  }
 ],
 "metadata": {
  "kernelspec": {
   "display_name": "Python 3.7.3 64-bit",
   "language": "python",
   "name": "python37364bit0a7a2eaffd2f4319808d1568b8643467"
  },
  "language_info": {
   "codemirror_mode": {
    "name": "ipython",
    "version": 3
   },
   "file_extension": ".py",
   "mimetype": "text/x-python",
   "name": "python",
   "nbconvert_exporter": "python",
   "pygments_lexer": "ipython3",
   "version": "3.7.3"
  }
 },
 "nbformat": 4,
 "nbformat_minor": 4
}
